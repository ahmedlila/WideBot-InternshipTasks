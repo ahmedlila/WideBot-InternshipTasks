{
 "cells": [
  {
   "cell_type": "markdown",
   "metadata": {},
   "source": [
    "# Getting to Philosophy"
   ]
  },
  {
   "cell_type": "markdown",
   "metadata": {},
   "source": [
    "Task 1 - Getting to Philosophy\n",
    "\n",
    "Please write a Python script to check the \"Getting to Philosophy\" law.\n",
    "https://en.wikipedia.org/wiki/Wikipedia:Getting_to_Philosophy\n",
    "\n",
    "Clicking on the first link in the main body of a Wikipedia article and repeating the process for subsequent articles would usually lead to the article Philosophy.\n",
    "\n",
    "The program should receive a Wikipedia link as an input, go to another normal link and repeat this process until either Philosophy page is reached, or we are in an article without any outgoing Wikilinks, or stuck in a loop.\n",
    "\n",
    "A \"normal link\" is a link from the main page article, not in a box, is blue (red is for non-existing articles), not in parentheses, not italic and not a footnote. You don't have to check style tables or other fancy things, it is enough that the script works with the current Wikipedia style (for example you can use 'class' attribute in Wikipedia tags). For easy validation, please print all visited links to the standard output.\n",
    "\n",
    "Use a 0.5 second timeout between queries to avoid heavy load on Wikipedia (sleep function from time module).\n",
    "\n",
    "You can use https://en.wikipedia.org/wiki/Special:Random to check this hypothesis at home.\n"
   ]
  },
  {
   "cell_type": "markdown",
   "metadata": {},
   "source": [
    "<h3> Importing libraries and setting final and initial URLs </h3>\n"
   ]
  },
  {
   "cell_type": "code",
   "execution_count": 99,
   "metadata": {},
   "outputs": [],
   "source": [
    "import time\n",
    "from bs4 import BeautifulSoup\n",
    "import requests\n",
    "\n",
    "\n",
    "start_url = \"https://en.wikipedia.org/wiki/Special:Random\"\n",
    "targeted_url = \"https://en.wikipedia.org/wiki/Philosophy\"\n",
    "all_urls = [start_url]"
   ]
  },
  {
   "cell_type": "markdown",
   "metadata": {},
   "source": [
    "<h3> Get first URL of the paragraph in the article </h3>"
   ]
  },
  {
   "cell_type": "code",
   "execution_count": 100,
   "metadata": {},
   "outputs": [],
   "source": [
    "\n",
    "def get_first_url(url):\n",
    "    article_url = None\n",
    "    response = requests.get(url) #retrieve the data from URL\n",
    "    html = response.text\n",
    "    soup = BeautifulSoup(html, \"html.parser\") #HTML parser\n",
    "    \n",
    "    for tag in soup.find_all(\"span\", {'class':'IPA'}): #remove all span tags that may cause confusion \n",
    "        tag.replaceWith('')\n",
    "    \n",
    "    text_part = soup.find(id=\"mw-content-text\").find(class_=\"mw-parser-output\") #Select the part that have p tags \n",
    "    for paragraph in text_part.find_all(\"p\", recursive=False): #To consider direct children (find not nested tags)\n",
    "        if paragraph.find(\"a\", recursive=False):\n",
    "            article_url = paragraph.find(\"a\", recursive=False).get('href')\n",
    "            \n",
    "            if article_url!=None: #If there is no href in the paragraph, iterate\n",
    "                break\n",
    "            \n",
    "\n",
    "    first_url =\"https://en.wikipedia.org\"+ article_url\n",
    "\n",
    "    return first_url\n",
    "\n"
   ]
  },
  {
   "cell_type": "markdown",
   "metadata": {},
   "source": [
    "<h3> Iterate about all urls:</h3>\n",
    "<div> <h4> To check if they have case of the following:  </h4> \n",
    "    <ol> <li>Reached philosophy page </li>\n",
    "        <li>Repeated</li>\n",
    "        <li>Page has no normal links</li></div>"
   ]
  },
  {
   "cell_type": "code",
   "execution_count": 101,
   "metadata": {},
   "outputs": [
    {
     "name": "stdout",
     "output_type": "stream",
     "text": [
      "https://en.wikipedia.org/wiki/Special:Random\n",
      "https://en.wikipedia.org/wiki/Contemporary_worship_music\n",
      "https://en.wikipedia.org/wiki/Christian_music\n",
      "https://en.wikipedia.org/wiki/Music\n",
      "https://en.wikipedia.org/wiki/The_arts#Music\n",
      "https://en.wikipedia.org/wiki/Creativity\n",
      "https://en.wikipedia.org/wiki/Idea\n",
      "Philosophy article found!\n"
     ]
    }
   ],
   "source": [
    "while 1:\n",
    "    if all_urls[-1] == targeted_url:\n",
    "        print(\"Philosophy article found!\")\n",
    "        break\n",
    "    \n",
    "    elif all_urls[-1] in all_urls[:-1]:\n",
    "        print(\"Stuck in a loop. Page: {}  is repeated\".format(all_urls[-1]))\n",
    "        break\n",
    "    \n",
    "    print(all_urls[-1])\n",
    "    new_first_link = get_first_url(all_urls[-1])\n",
    "    if new_first_link==None: #No output for first link \n",
    "        print(\"This article has no normal links.\")\n",
    "        break\n",
    "\n",
    "    \n",
    "    all_urls.append(new_first_link)\n",
    "\n",
    "    time.sleep(0.5)  #Avoid heavy load on Wikipedia \n"
   ]
  },
  {
   "cell_type": "markdown",
   "metadata": {},
   "source": [
    "#####################################################################################################\n",
    "##################################<b> Created by: Ahmed Elsayed Lila </b>#######################################\n",
    "#####################################################################################################\n"
   ]
  }
 ],
 "metadata": {
  "kernelspec": {
   "display_name": "Python 3",
   "language": "python",
   "name": "python3"
  },
  "language_info": {
   "codemirror_mode": {
    "name": "ipython",
    "version": 3
   },
   "file_extension": ".py",
   "mimetype": "text/x-python",
   "name": "python",
   "nbconvert_exporter": "python",
   "pygments_lexer": "ipython3",
   "version": "3.7.4"
  }
 },
 "nbformat": 4,
 "nbformat_minor": 2
}
