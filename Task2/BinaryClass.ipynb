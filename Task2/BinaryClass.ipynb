{
 "cells": [
  {
   "cell_type": "markdown",
   "metadata": {},
   "source": [
    "# Binary Classification of Categorical data"
   ]
  },
  {
   "cell_type": "markdown",
   "metadata": {},
   "source": [
    "<b> Task 2 - Binary Classification Problem </b>\n",
    "\n",
    "Given the training and validation datasets, <a href=\"http://bit.ly/widebot-new-binclf-data\"> Download here</a>  , Create and train a machine learning model using the training set that performs well on the validation set. You should decide on the metrics of \"performance\" yourself, We will assess your decision.\n"
   ]
  },
  {
   "cell_type": "markdown",
   "metadata": {},
   "source": [
    "<h2 style=\"color:#8b0000 \">Gathering Data </h2>"
   ]
  },
  {
   "cell_type": "code",
   "execution_count": 190,
   "metadata": {},
   "outputs": [],
   "source": [
    "import numpy as np \n",
    "import pandas as pd \n",
    "from sklearn.preprocessing import StandardScaler\n"
   ]
  },
  {
   "cell_type": "code",
   "execution_count": 191,
   "metadata": {},
   "outputs": [
    {
     "data": {
      "text/html": [
       "<div>\n",
       "<style scoped>\n",
       "    .dataframe tbody tr th:only-of-type {\n",
       "        vertical-align: middle;\n",
       "    }\n",
       "\n",
       "    .dataframe tbody tr th {\n",
       "        vertical-align: top;\n",
       "    }\n",
       "\n",
       "    .dataframe thead th {\n",
       "        text-align: right;\n",
       "    }\n",
       "</style>\n",
       "<table border=\"1\" class=\"dataframe\">\n",
       "  <thead>\n",
       "    <tr style=\"text-align: right;\">\n",
       "      <th></th>\n",
       "      <th>variable1</th>\n",
       "      <th>variable2</th>\n",
       "      <th>variable3</th>\n",
       "      <th>variable4</th>\n",
       "      <th>variable5</th>\n",
       "      <th>variable6</th>\n",
       "      <th>variable7</th>\n",
       "      <th>variable8</th>\n",
       "      <th>variable9</th>\n",
       "      <th>variable10</th>\n",
       "      <th>variable11</th>\n",
       "      <th>variable12</th>\n",
       "      <th>variable13</th>\n",
       "      <th>variable14</th>\n",
       "      <th>variable15</th>\n",
       "      <th>variable17</th>\n",
       "      <th>variable18</th>\n",
       "      <th>variable19</th>\n",
       "      <th>classLabel</th>\n",
       "    </tr>\n",
       "  </thead>\n",
       "  <tbody>\n",
       "    <tr>\n",
       "      <td>0</td>\n",
       "      <td>a</td>\n",
       "      <td>17.92</td>\n",
       "      <td>0.000054</td>\n",
       "      <td>u</td>\n",
       "      <td>g</td>\n",
       "      <td>c</td>\n",
       "      <td>v</td>\n",
       "      <td>1.750</td>\n",
       "      <td>f</td>\n",
       "      <td>t</td>\n",
       "      <td>1</td>\n",
       "      <td>t</td>\n",
       "      <td>g</td>\n",
       "      <td>80.0</td>\n",
       "      <td>5</td>\n",
       "      <td>800000.0</td>\n",
       "      <td>t</td>\n",
       "      <td>0</td>\n",
       "      <td>no.</td>\n",
       "    </tr>\n",
       "    <tr>\n",
       "      <td>1</td>\n",
       "      <td>b</td>\n",
       "      <td>16.92</td>\n",
       "      <td>0.000034</td>\n",
       "      <td>y</td>\n",
       "      <td>p</td>\n",
       "      <td>k</td>\n",
       "      <td>v</td>\n",
       "      <td>0.290</td>\n",
       "      <td>f</td>\n",
       "      <td>f</td>\n",
       "      <td>0</td>\n",
       "      <td>f</td>\n",
       "      <td>s</td>\n",
       "      <td>200.0</td>\n",
       "      <td>0</td>\n",
       "      <td>2000000.0</td>\n",
       "      <td>NaN</td>\n",
       "      <td>0</td>\n",
       "      <td>no.</td>\n",
       "    </tr>\n",
       "    <tr>\n",
       "      <td>2</td>\n",
       "      <td>b</td>\n",
       "      <td>31.25</td>\n",
       "      <td>0.000112</td>\n",
       "      <td>u</td>\n",
       "      <td>g</td>\n",
       "      <td>ff</td>\n",
       "      <td>ff</td>\n",
       "      <td>0.000</td>\n",
       "      <td>f</td>\n",
       "      <td>t</td>\n",
       "      <td>1</td>\n",
       "      <td>f</td>\n",
       "      <td>g</td>\n",
       "      <td>96.0</td>\n",
       "      <td>19</td>\n",
       "      <td>960000.0</td>\n",
       "      <td>t</td>\n",
       "      <td>0</td>\n",
       "      <td>no.</td>\n",
       "    </tr>\n",
       "    <tr>\n",
       "      <td>3</td>\n",
       "      <td>a</td>\n",
       "      <td>48.17</td>\n",
       "      <td>0.000133</td>\n",
       "      <td>u</td>\n",
       "      <td>g</td>\n",
       "      <td>i</td>\n",
       "      <td>o</td>\n",
       "      <td>0.335</td>\n",
       "      <td>f</td>\n",
       "      <td>f</td>\n",
       "      <td>0</td>\n",
       "      <td>f</td>\n",
       "      <td>g</td>\n",
       "      <td>0.0</td>\n",
       "      <td>120</td>\n",
       "      <td>0.0</td>\n",
       "      <td>NaN</td>\n",
       "      <td>0</td>\n",
       "      <td>no.</td>\n",
       "    </tr>\n",
       "    <tr>\n",
       "      <td>4</td>\n",
       "      <td>b</td>\n",
       "      <td>32.33</td>\n",
       "      <td>0.000350</td>\n",
       "      <td>u</td>\n",
       "      <td>g</td>\n",
       "      <td>k</td>\n",
       "      <td>v</td>\n",
       "      <td>0.500</td>\n",
       "      <td>f</td>\n",
       "      <td>f</td>\n",
       "      <td>0</td>\n",
       "      <td>t</td>\n",
       "      <td>g</td>\n",
       "      <td>232.0</td>\n",
       "      <td>0</td>\n",
       "      <td>2320000.0</td>\n",
       "      <td>f</td>\n",
       "      <td>0</td>\n",
       "      <td>no.</td>\n",
       "    </tr>\n",
       "  </tbody>\n",
       "</table>\n",
       "</div>"
      ],
      "text/plain": [
       "  variable1  variable2  variable3 variable4 variable5 variable6 variable7  \\\n",
       "0         a      17.92   0.000054         u         g         c         v   \n",
       "1         b      16.92   0.000034         y         p         k         v   \n",
       "2         b      31.25   0.000112         u         g        ff        ff   \n",
       "3         a      48.17   0.000133         u         g         i         o   \n",
       "4         b      32.33   0.000350         u         g         k         v   \n",
       "\n",
       "   variable8 variable9 variable10  variable11 variable12 variable13  \\\n",
       "0      1.750         f          t           1          t          g   \n",
       "1      0.290         f          f           0          f          s   \n",
       "2      0.000         f          t           1          f          g   \n",
       "3      0.335         f          f           0          f          g   \n",
       "4      0.500         f          f           0          t          g   \n",
       "\n",
       "   variable14  variable15  variable17 variable18  variable19 classLabel  \n",
       "0        80.0           5    800000.0          t           0        no.  \n",
       "1       200.0           0   2000000.0        NaN           0        no.  \n",
       "2        96.0          19    960000.0          t           0        no.  \n",
       "3         0.0         120         0.0        NaN           0        no.  \n",
       "4       232.0           0   2320000.0          f           0        no.  "
      ]
     },
     "execution_count": 191,
     "metadata": {},
     "output_type": "execute_result"
    }
   ],
   "source": [
    "# Converting from TSV to CSV using sep= ;\n",
    "#Fixing decimal point from , to . \n",
    "#CODE\n",
    "training= pd.read_csv(\"training.csv\", sep=\";\", decimal=\",\")\n",
    "validation= pd.read_csv(\"validation.csv\", sep=\";\", decimal=\",\")\n",
    "#TEST\n",
    "training.head()"
   ]
  },
  {
   "cell_type": "code",
   "execution_count": 192,
   "metadata": {},
   "outputs": [
    {
     "name": "stdout",
     "output_type": "stream",
     "text": [
      "<class 'pandas.core.frame.DataFrame'>\n",
      "RangeIndex: 3700 entries, 0 to 3699\n",
      "Data columns (total 19 columns):\n",
      "variable1     3661 non-null object\n",
      "variable2     3661 non-null float64\n",
      "variable3     3700 non-null float64\n",
      "variable4     3636 non-null object\n",
      "variable5     3636 non-null object\n",
      "variable6     3634 non-null object\n",
      "variable7     3634 non-null object\n",
      "variable8     3700 non-null float64\n",
      "variable9     3700 non-null object\n",
      "variable10    3700 non-null object\n",
      "variable11    3700 non-null int64\n",
      "variable12    3700 non-null object\n",
      "variable13    3700 non-null object\n",
      "variable14    3600 non-null float64\n",
      "variable15    3700 non-null int64\n",
      "variable17    3600 non-null float64\n",
      "variable18    1555 non-null object\n",
      "variable19    3700 non-null int64\n",
      "classLabel    3700 non-null object\n",
      "dtypes: float64(5), int64(3), object(11)\n",
      "memory usage: 549.3+ KB\n"
     ]
    }
   ],
   "source": [
    "training.info()"
   ]
  },
  {
   "cell_type": "code",
   "execution_count": 193,
   "metadata": {
    "scrolled": false
   },
   "outputs": [
    {
     "data": {
      "text/html": [
       "<div>\n",
       "<style scoped>\n",
       "    .dataframe tbody tr th:only-of-type {\n",
       "        vertical-align: middle;\n",
       "    }\n",
       "\n",
       "    .dataframe tbody tr th {\n",
       "        vertical-align: top;\n",
       "    }\n",
       "\n",
       "    .dataframe thead th {\n",
       "        text-align: right;\n",
       "    }\n",
       "</style>\n",
       "<table border=\"1\" class=\"dataframe\">\n",
       "  <thead>\n",
       "    <tr style=\"text-align: right;\">\n",
       "      <th></th>\n",
       "      <th>variable2</th>\n",
       "      <th>variable3</th>\n",
       "      <th>variable8</th>\n",
       "      <th>variable11</th>\n",
       "      <th>variable14</th>\n",
       "      <th>variable15</th>\n",
       "      <th>variable17</th>\n",
       "      <th>variable19</th>\n",
       "    </tr>\n",
       "  </thead>\n",
       "  <tbody>\n",
       "    <tr>\n",
       "      <td>count</td>\n",
       "      <td>3661.000000</td>\n",
       "      <td>3700.000000</td>\n",
       "      <td>3700.000000</td>\n",
       "      <td>3700.000000</td>\n",
       "      <td>3600.000000</td>\n",
       "      <td>3700.000000</td>\n",
       "      <td>3.600000e+03</td>\n",
       "      <td>3700.000000</td>\n",
       "    </tr>\n",
       "    <tr>\n",
       "      <td>mean</td>\n",
       "      <td>32.820713</td>\n",
       "      <td>0.000585</td>\n",
       "      <td>3.439496</td>\n",
       "      <td>4.160000</td>\n",
       "      <td>162.695000</td>\n",
       "      <td>2246.705946</td>\n",
       "      <td>1.626950e+06</td>\n",
       "      <td>0.925405</td>\n",
       "    </tr>\n",
       "    <tr>\n",
       "      <td>std</td>\n",
       "      <td>12.666181</td>\n",
       "      <td>0.000540</td>\n",
       "      <td>4.335229</td>\n",
       "      <td>6.750553</td>\n",
       "      <td>156.045682</td>\n",
       "      <td>8708.571126</td>\n",
       "      <td>1.560457e+06</td>\n",
       "      <td>0.262772</td>\n",
       "    </tr>\n",
       "    <tr>\n",
       "      <td>min</td>\n",
       "      <td>13.750000</td>\n",
       "      <td>0.000000</td>\n",
       "      <td>0.000000</td>\n",
       "      <td>0.000000</td>\n",
       "      <td>0.000000</td>\n",
       "      <td>0.000000</td>\n",
       "      <td>0.000000e+00</td>\n",
       "      <td>0.000000</td>\n",
       "    </tr>\n",
       "    <tr>\n",
       "      <td>25%</td>\n",
       "      <td>23.000000</td>\n",
       "      <td>0.000150</td>\n",
       "      <td>0.500000</td>\n",
       "      <td>0.000000</td>\n",
       "      <td>0.000000</td>\n",
       "      <td>0.000000</td>\n",
       "      <td>0.000000e+00</td>\n",
       "      <td>1.000000</td>\n",
       "    </tr>\n",
       "    <tr>\n",
       "      <td>50%</td>\n",
       "      <td>28.670000</td>\n",
       "      <td>0.000425</td>\n",
       "      <td>1.750000</td>\n",
       "      <td>2.000000</td>\n",
       "      <td>120.000000</td>\n",
       "      <td>113.000000</td>\n",
       "      <td>1.200000e+06</td>\n",
       "      <td>1.000000</td>\n",
       "    </tr>\n",
       "    <tr>\n",
       "      <td>75%</td>\n",
       "      <td>40.830000</td>\n",
       "      <td>0.000963</td>\n",
       "      <td>5.000000</td>\n",
       "      <td>6.000000</td>\n",
       "      <td>280.000000</td>\n",
       "      <td>1059.750000</td>\n",
       "      <td>2.800000e+06</td>\n",
       "      <td>1.000000</td>\n",
       "    </tr>\n",
       "    <tr>\n",
       "      <td>max</td>\n",
       "      <td>80.250000</td>\n",
       "      <td>0.002800</td>\n",
       "      <td>28.500000</td>\n",
       "      <td>67.000000</td>\n",
       "      <td>1160.000000</td>\n",
       "      <td>100000.000000</td>\n",
       "      <td>1.160000e+07</td>\n",
       "      <td>1.000000</td>\n",
       "    </tr>\n",
       "  </tbody>\n",
       "</table>\n",
       "</div>"
      ],
      "text/plain": [
       "         variable2    variable3    variable8   variable11   variable14  \\\n",
       "count  3661.000000  3700.000000  3700.000000  3700.000000  3600.000000   \n",
       "mean     32.820713     0.000585     3.439496     4.160000   162.695000   \n",
       "std      12.666181     0.000540     4.335229     6.750553   156.045682   \n",
       "min      13.750000     0.000000     0.000000     0.000000     0.000000   \n",
       "25%      23.000000     0.000150     0.500000     0.000000     0.000000   \n",
       "50%      28.670000     0.000425     1.750000     2.000000   120.000000   \n",
       "75%      40.830000     0.000963     5.000000     6.000000   280.000000   \n",
       "max      80.250000     0.002800    28.500000    67.000000  1160.000000   \n",
       "\n",
       "          variable15    variable17   variable19  \n",
       "count    3700.000000  3.600000e+03  3700.000000  \n",
       "mean     2246.705946  1.626950e+06     0.925405  \n",
       "std      8708.571126  1.560457e+06     0.262772  \n",
       "min         0.000000  0.000000e+00     0.000000  \n",
       "25%         0.000000  0.000000e+00     1.000000  \n",
       "50%       113.000000  1.200000e+06     1.000000  \n",
       "75%      1059.750000  2.800000e+06     1.000000  \n",
       "max    100000.000000  1.160000e+07     1.000000  "
      ]
     },
     "execution_count": 193,
     "metadata": {},
     "output_type": "execute_result"
    }
   ],
   "source": [
    "training.describe()"
   ]
  },
  {
   "cell_type": "markdown",
   "metadata": {},
   "source": [
    "# Assessing and Cleaning data"
   ]
  },
  {
   "cell_type": "markdown",
   "metadata": {},
   "source": [
    "<h2 style=\"color:#8b0000 \">Performance Metrics: </h2>\n",
    " <ul> \n",
    "<li> Confusion Matrix </li>\n",
    "<li>Classification Accuracy</li>\n",
    "<li>Classification Report\n",
    "<ul> <li> Precision </li>\n",
    "<li>Recall </li>\n",
    "<li>Specificity</li>\n",
    "    <li>F1 Score </li> </ul>\n",
    "<li>AUC (Area Under ROC curve) </ul>"
   ]
  },
  {
   "cell_type": "code",
   "execution_count": 194,
   "metadata": {},
   "outputs": [
    {
     "data": {
      "text/plain": [
       "True"
      ]
     },
     "execution_count": 194,
     "metadata": {},
     "output_type": "execute_result"
    }
   ],
   "source": [
    "# New dataframe to gather training and validation data \n",
    "#CODE\n",
    "frames = [training, validation]\n",
    "all_data = pd.concat(frames)\n",
    "#TEST\n",
    "all_data.shape[0]==training.shape[0]+validation.shape[0]"
   ]
  },
  {
   "cell_type": "markdown",
   "metadata": {},
   "source": [
    "<h3> Null values Problem </h3>"
   ]
  },
  {
   "cell_type": "code",
   "execution_count": 195,
   "metadata": {},
   "outputs": [
    {
     "data": {
      "text/plain": [
       "variable1       42\n",
       "variable2       42\n",
       "variable3        0\n",
       "variable4       66\n",
       "variable5       66\n",
       "variable6       69\n",
       "variable7       69\n",
       "variable8        0\n",
       "variable9        0\n",
       "variable10       0\n",
       "variable11       0\n",
       "variable12       0\n",
       "variable13       0\n",
       "variable14     103\n",
       "variable15       0\n",
       "variable17     103\n",
       "variable18    2256\n",
       "variable19       0\n",
       "classLabel       0\n",
       "dtype: int64"
      ]
     },
     "execution_count": 195,
     "metadata": {},
     "output_type": "execute_result"
    }
   ],
   "source": [
    "#Checking NULL values in columns \n",
    "all_data.isnull().sum()"
   ]
  },
  {
   "cell_type": "code",
   "execution_count": 196,
   "metadata": {},
   "outputs": [
    {
     "data": {
      "text/plain": [
       "['variable1',\n",
       " 'variable2',\n",
       " 'variable3',\n",
       " 'variable4',\n",
       " 'variable5',\n",
       " 'variable6',\n",
       " 'variable7',\n",
       " 'variable8',\n",
       " 'variable9',\n",
       " 'variable10',\n",
       " 'variable11',\n",
       " 'variable12',\n",
       " 'variable13',\n",
       " 'variable14',\n",
       " 'variable15',\n",
       " 'variable17',\n",
       " 'variable19',\n",
       " 'classLabel']"
      ]
     },
     "execution_count": 196,
     "metadata": {},
     "output_type": "execute_result"
    }
   ],
   "source": [
    "#Drop variable18 column as it has many null values (2145 from 3700)\n",
    "#CODE\n",
    "all_data = all_data.drop(['variable18'], 1)\n",
    "# TEST \n",
    "list(all_data)"
   ]
  },
  {
   "cell_type": "code",
   "execution_count": 197,
   "metadata": {},
   "outputs": [
    {
     "data": {
      "text/plain": [
       "variable1     0\n",
       "variable2     0\n",
       "variable3     0\n",
       "variable4     0\n",
       "variable5     0\n",
       "variable6     0\n",
       "variable7     0\n",
       "variable8     0\n",
       "variable9     0\n",
       "variable10    0\n",
       "variable11    0\n",
       "variable12    0\n",
       "variable13    0\n",
       "variable14    0\n",
       "variable15    0\n",
       "variable17    0\n",
       "variable19    0\n",
       "classLabel    0\n",
       "dtype: int64"
      ]
     },
     "execution_count": 197,
     "metadata": {},
     "output_type": "execute_result"
    }
   ],
   "source": [
    "#dtypes: float64(5), int64(3), object(11)\n",
    "#Replace all numeric columns' nulls with the median \n",
    "#CODE\n",
    "for i in all_data.columns:\n",
    "    if all_data[i].dtypes == 'O':\n",
    "        all_data[i] = all_data[i].fillna(all_data[i].mode()[0])\n",
    "    else:\n",
    "        all_data[i]=all_data[i].fillna(all_data[i].median())\n",
    "#TEST\n",
    "all_data.isnull().sum() "
   ]
  },
  {
   "cell_type": "markdown",
   "metadata": {},
   "source": [
    "<b> I tried to use Over-sampling to solve imbalanced data problem which involves adding more examples from the minority class, but I found that using class weight is much better:  </b>\n",
    "- Class weights directly modify the loss function by giving more (or less) penalty to the classes with more (or less) weight.\n",
    "- Oversampling method essentially gives more weight to particular classes as well (duplicating observations duplicates the penalty for those particular observations."
   ]
  },
  {
   "cell_type": "markdown",
   "metadata": {},
   "source": [
    "<h3> Convert categorical variable</h3>"
   ]
  },
  {
   "cell_type": "code",
   "execution_count": 198,
   "metadata": {},
   "outputs": [
    {
     "data": {
      "text/html": [
       "<div>\n",
       "<style scoped>\n",
       "    .dataframe tbody tr th:only-of-type {\n",
       "        vertical-align: middle;\n",
       "    }\n",
       "\n",
       "    .dataframe tbody tr th {\n",
       "        vertical-align: top;\n",
       "    }\n",
       "\n",
       "    .dataframe thead th {\n",
       "        text-align: right;\n",
       "    }\n",
       "</style>\n",
       "<table border=\"1\" class=\"dataframe\">\n",
       "  <thead>\n",
       "    <tr style=\"text-align: right;\">\n",
       "      <th></th>\n",
       "      <th>variable2</th>\n",
       "      <th>variable3</th>\n",
       "      <th>variable8</th>\n",
       "      <th>variable11</th>\n",
       "      <th>variable14</th>\n",
       "      <th>variable15</th>\n",
       "      <th>variable17</th>\n",
       "      <th>variable19</th>\n",
       "      <th>variable1_a</th>\n",
       "      <th>variable1_b</th>\n",
       "      <th>...</th>\n",
       "      <th>variable9_t</th>\n",
       "      <th>variable10_f</th>\n",
       "      <th>variable10_t</th>\n",
       "      <th>variable12_f</th>\n",
       "      <th>variable12_t</th>\n",
       "      <th>variable13_g</th>\n",
       "      <th>variable13_p</th>\n",
       "      <th>variable13_s</th>\n",
       "      <th>classLabel_no.</th>\n",
       "      <th>classLabel_yes.</th>\n",
       "    </tr>\n",
       "  </thead>\n",
       "  <tbody>\n",
       "    <tr>\n",
       "      <td>0</td>\n",
       "      <td>17.92</td>\n",
       "      <td>0.000054</td>\n",
       "      <td>1.750</td>\n",
       "      <td>1</td>\n",
       "      <td>80.0</td>\n",
       "      <td>5</td>\n",
       "      <td>800000.0</td>\n",
       "      <td>0</td>\n",
       "      <td>1</td>\n",
       "      <td>0</td>\n",
       "      <td>...</td>\n",
       "      <td>0</td>\n",
       "      <td>0</td>\n",
       "      <td>1</td>\n",
       "      <td>0</td>\n",
       "      <td>1</td>\n",
       "      <td>1</td>\n",
       "      <td>0</td>\n",
       "      <td>0</td>\n",
       "      <td>1</td>\n",
       "      <td>0</td>\n",
       "    </tr>\n",
       "    <tr>\n",
       "      <td>1</td>\n",
       "      <td>16.92</td>\n",
       "      <td>0.000034</td>\n",
       "      <td>0.290</td>\n",
       "      <td>0</td>\n",
       "      <td>200.0</td>\n",
       "      <td>0</td>\n",
       "      <td>2000000.0</td>\n",
       "      <td>0</td>\n",
       "      <td>0</td>\n",
       "      <td>1</td>\n",
       "      <td>...</td>\n",
       "      <td>0</td>\n",
       "      <td>1</td>\n",
       "      <td>0</td>\n",
       "      <td>1</td>\n",
       "      <td>0</td>\n",
       "      <td>0</td>\n",
       "      <td>0</td>\n",
       "      <td>1</td>\n",
       "      <td>1</td>\n",
       "      <td>0</td>\n",
       "    </tr>\n",
       "    <tr>\n",
       "      <td>2</td>\n",
       "      <td>31.25</td>\n",
       "      <td>0.000112</td>\n",
       "      <td>0.000</td>\n",
       "      <td>1</td>\n",
       "      <td>96.0</td>\n",
       "      <td>19</td>\n",
       "      <td>960000.0</td>\n",
       "      <td>0</td>\n",
       "      <td>0</td>\n",
       "      <td>1</td>\n",
       "      <td>...</td>\n",
       "      <td>0</td>\n",
       "      <td>0</td>\n",
       "      <td>1</td>\n",
       "      <td>1</td>\n",
       "      <td>0</td>\n",
       "      <td>1</td>\n",
       "      <td>0</td>\n",
       "      <td>0</td>\n",
       "      <td>1</td>\n",
       "      <td>0</td>\n",
       "    </tr>\n",
       "    <tr>\n",
       "      <td>3</td>\n",
       "      <td>48.17</td>\n",
       "      <td>0.000133</td>\n",
       "      <td>0.335</td>\n",
       "      <td>0</td>\n",
       "      <td>0.0</td>\n",
       "      <td>120</td>\n",
       "      <td>0.0</td>\n",
       "      <td>0</td>\n",
       "      <td>1</td>\n",
       "      <td>0</td>\n",
       "      <td>...</td>\n",
       "      <td>0</td>\n",
       "      <td>1</td>\n",
       "      <td>0</td>\n",
       "      <td>1</td>\n",
       "      <td>0</td>\n",
       "      <td>1</td>\n",
       "      <td>0</td>\n",
       "      <td>0</td>\n",
       "      <td>1</td>\n",
       "      <td>0</td>\n",
       "    </tr>\n",
       "    <tr>\n",
       "      <td>4</td>\n",
       "      <td>32.33</td>\n",
       "      <td>0.000350</td>\n",
       "      <td>0.500</td>\n",
       "      <td>0</td>\n",
       "      <td>232.0</td>\n",
       "      <td>0</td>\n",
       "      <td>2320000.0</td>\n",
       "      <td>0</td>\n",
       "      <td>0</td>\n",
       "      <td>1</td>\n",
       "      <td>...</td>\n",
       "      <td>0</td>\n",
       "      <td>1</td>\n",
       "      <td>0</td>\n",
       "      <td>0</td>\n",
       "      <td>1</td>\n",
       "      <td>1</td>\n",
       "      <td>0</td>\n",
       "      <td>0</td>\n",
       "      <td>1</td>\n",
       "      <td>0</td>\n",
       "    </tr>\n",
       "  </tbody>\n",
       "</table>\n",
       "<p>5 rows × 50 columns</p>\n",
       "</div>"
      ],
      "text/plain": [
       "   variable2  variable3  variable8  variable11  variable14  variable15  \\\n",
       "0      17.92   0.000054      1.750           1        80.0           5   \n",
       "1      16.92   0.000034      0.290           0       200.0           0   \n",
       "2      31.25   0.000112      0.000           1        96.0          19   \n",
       "3      48.17   0.000133      0.335           0         0.0         120   \n",
       "4      32.33   0.000350      0.500           0       232.0           0   \n",
       "\n",
       "   variable17  variable19  variable1_a  variable1_b  ...  variable9_t  \\\n",
       "0    800000.0           0            1            0  ...            0   \n",
       "1   2000000.0           0            0            1  ...            0   \n",
       "2    960000.0           0            0            1  ...            0   \n",
       "3         0.0           0            1            0  ...            0   \n",
       "4   2320000.0           0            0            1  ...            0   \n",
       "\n",
       "   variable10_f  variable10_t  variable12_f  variable12_t  variable13_g  \\\n",
       "0             0             1             0             1             1   \n",
       "1             1             0             1             0             0   \n",
       "2             0             1             1             0             1   \n",
       "3             1             0             1             0             1   \n",
       "4             1             0             0             1             1   \n",
       "\n",
       "   variable13_p  variable13_s  classLabel_no.  classLabel_yes.  \n",
       "0             0             0               1                0  \n",
       "1             0             1               1                0  \n",
       "2             0             0               1                0  \n",
       "3             0             0               1                0  \n",
       "4             0             0               1                0  \n",
       "\n",
       "[5 rows x 50 columns]"
      ]
     },
     "execution_count": 198,
     "metadata": {},
     "output_type": "execute_result"
    }
   ],
   "source": [
    "#Convert categorical variable into dummy/indicator variables that has two specific values, 1 or 0.\n",
    "#Code\n",
    "X = pd.get_dummies(all_data)\n",
    "#Test\n",
    "X.head()"
   ]
  },
  {
   "cell_type": "code",
   "execution_count": 199,
   "metadata": {},
   "outputs": [
    {
     "data": {
      "text/plain": [
       "True"
      ]
     },
     "execution_count": 199,
     "metadata": {},
     "output_type": "execute_result"
    }
   ],
   "source": [
    "#Creating Training and testing set\n",
    "#CODE\n",
    "train_len= training.shape[0]\n",
    "x= X.drop('classLabel_yes.',axis = 1)\n",
    "\n",
    "X_train = x[ :train_len]\n",
    "X_test = x[train_len: ]\n",
    "y_train = X['classLabel_yes.'][ :train_len]\n",
    "y_test = X['classLabel_yes.'][train_len: ]\n",
    "#TEST\n",
    "X_train.shape[0]+X_test.shape[0]==all_data.shape[0]"
   ]
  },
  {
   "cell_type": "code",
   "execution_count": 200,
   "metadata": {},
   "outputs": [
    {
     "name": "stdout",
     "output_type": "stream",
     "text": [
      "<class 'pandas.core.frame.DataFrame'>\n",
      "Int64Index: 3900 entries, 0 to 199\n",
      "Data columns (total 50 columns):\n",
      "variable2          3900 non-null float64\n",
      "variable3          3900 non-null float64\n",
      "variable8          3900 non-null float64\n",
      "variable11         3900 non-null float64\n",
      "variable14         3900 non-null float64\n",
      "variable15         3900 non-null float64\n",
      "variable17         3900 non-null float64\n",
      "variable19         3900 non-null float64\n",
      "variable1_a        3900 non-null float64\n",
      "variable1_b        3900 non-null float64\n",
      "variable4_l        3900 non-null float64\n",
      "variable4_u        3900 non-null float64\n",
      "variable4_y        3900 non-null float64\n",
      "variable5_g        3900 non-null float64\n",
      "variable5_gg       3900 non-null float64\n",
      "variable5_p        3900 non-null float64\n",
      "variable6_W        3900 non-null float64\n",
      "variable6_aa       3900 non-null float64\n",
      "variable6_c        3900 non-null float64\n",
      "variable6_cc       3900 non-null float64\n",
      "variable6_d        3900 non-null float64\n",
      "variable6_e        3900 non-null float64\n",
      "variable6_ff       3900 non-null float64\n",
      "variable6_i        3900 non-null float64\n",
      "variable6_j        3900 non-null float64\n",
      "variable6_k        3900 non-null float64\n",
      "variable6_m        3900 non-null float64\n",
      "variable6_q        3900 non-null float64\n",
      "variable6_r        3900 non-null float64\n",
      "variable6_x        3900 non-null float64\n",
      "variable7_bb       3900 non-null float64\n",
      "variable7_dd       3900 non-null float64\n",
      "variable7_ff       3900 non-null float64\n",
      "variable7_h        3900 non-null float64\n",
      "variable7_j        3900 non-null float64\n",
      "variable7_n        3900 non-null float64\n",
      "variable7_o        3900 non-null float64\n",
      "variable7_v        3900 non-null float64\n",
      "variable7_z        3900 non-null float64\n",
      "variable9_f        3900 non-null float64\n",
      "variable9_t        3900 non-null float64\n",
      "variable10_f       3900 non-null float64\n",
      "variable10_t       3900 non-null float64\n",
      "variable12_f       3900 non-null float64\n",
      "variable12_t       3900 non-null float64\n",
      "variable13_g       3900 non-null float64\n",
      "variable13_p       3900 non-null float64\n",
      "variable13_s       3900 non-null float64\n",
      "classLabel_no.     3900 non-null float64\n",
      "classLabel_yes.    3900 non-null float64\n",
      "dtypes: float64(50)\n",
      "memory usage: 1.5 MB\n"
     ]
    }
   ],
   "source": [
    "#Making all dtypes: float \n",
    "#CODE\n",
    "X = X.astype(float)\n",
    "#TEST\n",
    "X.info()"
   ]
  },
  {
   "cell_type": "code",
   "execution_count": 201,
   "metadata": {},
   "outputs": [],
   "source": [
    "#Scaling the data to unit variance\n",
    "sc = StandardScaler()\n",
    "X_train = sc.fit_transform(X_train)\n",
    "X_test = sc.transform(X_test)"
   ]
  },
  {
   "cell_type": "markdown",
   "metadata": {},
   "source": [
    "# Choosing Classifiers"
   ]
  },
  {
   "cell_type": "code",
   "execution_count": 202,
   "metadata": {},
   "outputs": [],
   "source": [
    "from sklearn.linear_model import SGDClassifier\n",
    "from sklearn.model_selection import cross_val_predict\n",
    "from sklearn.metrics import confusion_matrix\n",
    "from imblearn.metrics import classification_report_imbalanced\n",
    "from sklearn.naive_bayes import BernoulliNB\n",
    "from sklearn.metrics import accuracy_score\n",
    "from sklearn.metrics import f1_score, roc_auc_score, roc_curve\n",
    "import matplotlib.pyplot as plt\n",
    "from sklearn.ensemble import RandomForestClassifier\n"
   ]
  },
  {
   "cell_type": "markdown",
   "metadata": {},
   "source": [
    "<h2 style=\"color:#8b0000 \"> 1- SGD Classifier </h2>"
   ]
  },
  {
   "cell_type": "code",
   "execution_count": 203,
   "metadata": {},
   "outputs": [
    {
     "name": "stdout",
     "output_type": "stream",
     "text": [
      "SGD confusion matrix: \n",
      "[[ 269    7]\n",
      " [   0 3424]]\n",
      "The accuracy of SGD Classifier is : 0.73\n"
     ]
    },
    {
     "name": "stderr",
     "output_type": "stream",
     "text": [
      "C:\\Users\\zas47\\Anaconda3\\lib\\site-packages\\sklearn\\model_selection\\_split.py:1978: FutureWarning: The default value of cv will change from 3 to 5 in version 0.22. Specify it explicitly to silence this warning.\n",
      "  warnings.warn(CV_WARNING, FutureWarning)\n"
     ]
    }
   ],
   "source": [
    "from sklearn.feature_extraction.text import CountVectorizer\n",
    "sgd_clf = SGDClassifier(random_state=42)\n",
    "sgd_clf.fit(X_train, y_train)\n",
    "y_pred = cross_val_predict(sgd_clf, X_train, y_train)\n",
    "\n",
    "\n",
    "print(\"SGD confusion matrix: \")\n",
    "\n",
    "print(confusion_matrix(y_train, y_pred))\n",
    "\n",
    "print(\"The accuracy of SGD Classifier is : {}\".format(sgd_clf.score(X_test, y_test)))\n"
   ]
  },
  {
   "cell_type": "markdown",
   "metadata": {},
   "source": [
    "<h2 style=\"color:#8b0000 \">2- BernoulliNB Classifier </h2>"
   ]
  },
  {
   "cell_type": "code",
   "execution_count": 204,
   "metadata": {},
   "outputs": [
    {
     "name": "stdout",
     "output_type": "stream",
     "text": [
      "                   pre       rec       spe        f1       geo       iba       sup\n",
      "\n",
      "          0       0.99      0.91      0.99      0.95      0.95      0.89       107\n",
      "          1       0.90      0.99      0.91      0.94      0.95      0.90        93\n",
      "\n",
      "avg / total       0.95      0.94      0.95      0.95      0.95      0.90       200\n",
      "\n",
      "The accuracy of Bernoulli Classifier is : 94.5 %\n"
     ]
    }
   ],
   "source": [
    "#Import Bernoulli NB Classifier and get the predicted data\n",
    "NB_clf = BernoulliNB()\n",
    "NB_clf.fit(X_train,y_train)\n",
    "y_pred=NB_clf.predict(X_test)\n",
    "\n",
    "print(classification_report_imbalanced(y_test, y_pred))\n",
    "print(\"The accuracy of Bernoulli Classifier is : {} %\".format(accuracy_score(y_test, y_pred)*100))"
   ]
  },
  {
   "cell_type": "markdown",
   "metadata": {},
   "source": [
    "<h2 style=\"color:#8b0000 \">3- RandomForest Classifier (Best) </h2>"
   ]
  },
  {
   "cell_type": "markdown",
   "metadata": {},
   "source": [
    "<h3> Setting class weight to avoid manage imbalanced data </h3> "
   ]
  },
  {
   "cell_type": "code",
   "execution_count": 205,
   "metadata": {},
   "outputs": [
    {
     "data": {
      "text/plain": [
       "{0: 5.091383812010444, 1: 0.554449815183395}"
      ]
     },
     "execution_count": 205,
     "metadata": {},
     "output_type": "execute_result"
    }
   ],
   "source": [
    "#unique_classes = list(all_data['classLabel_yes.'].unique())\n",
    "classes_num=[0,1] #classLabel_yes has only 1 and 0 \n",
    "class_weight = {}\n",
    "for observation in classes_num:\n",
    "    class_weight[observation] = all_data.shape[0]/((all_data.loc[X['classLabel_yes.'] == observation].shape[0])*len(classes_num))\n",
    "class_weight"
   ]
  },
  {
   "cell_type": "code",
   "execution_count": 206,
   "metadata": {},
   "outputs": [
    {
     "name": "stdout",
     "output_type": "stream",
     "text": [
      "                   pre       rec       spe        f1       geo       iba       sup\n",
      "\n",
      "          0       0.99      0.93      0.99      0.96      0.96      0.92       107\n",
      "          1       0.93      0.99      0.93      0.96      0.96      0.93        93\n",
      "\n",
      "avg / total       0.96      0.96      0.96      0.96      0.96      0.92       200\n",
      "\n",
      "The accuracy of RandomForest Classifier is : 96.0 %\n"
     ]
    }
   ],
   "source": [
    "#Import Bernoulli NB Classifier and get the predicted data\n",
    "\n",
    "RF_clf=RandomForestClassifier(n_estimators=1000, class_weight=class_weight,random_state=0)\n",
    "\n",
    "#Train the model using the training sets y_pred=clf.predict(X_test)\n",
    "RF_clf.fit(X_train,y_train)\n",
    "y_pred=RF_clf.predict(X_test)\n",
    "\n",
    "print(classification_report_imbalanced(y_test, y_pred))\n",
    "print(\"The accuracy of RandomForest Classifier is : {} %\".format(accuracy_score(y_test, y_pred)*100))"
   ]
  },
  {
   "cell_type": "markdown",
   "metadata": {},
   "source": [
    "<h3> AUC ROC Curve </h3> "
   ]
  },
  {
   "cell_type": "code",
   "execution_count": 207,
   "metadata": {},
   "outputs": [
    {
     "data": {
      "image/png": "[encoded data removed]",
      "text/plain": [
       "<Figure size 432x288 with 1 Axes>"
      ]
     },
     "metadata": {
      "needs_background": "light"
     },
     "output_type": "display_data"
    }
   ],
   "source": [
    "y_pred_proba = RF_clf.predict_proba(X_test)[:, 1]\n",
    "fpr, tpr, thresholds = roc_curve(y_test,  y_pred_proba)\n",
    "auc = roc_auc_score(y_test, y_pred_proba)\n",
    "plt.plot(fpr,tpr,label=\"AUC ROC Curve with Area Under the curve =\"+str(auc))\n",
    "plt.legend(loc=4)\n",
    "plt.show()"
   ]
  },
  {
   "cell_type": "markdown",
   "metadata": {},
   "source": [
    "#####################################################################################################\n",
    "##################################<b> Created by: Ahmed Elsayed Lila </b>#######################################\n",
    "#####################################################################################################\n"
   ]
  },
  {
   "cell_type": "code",
   "execution_count": null,
   "metadata": {},
   "outputs": [],
   "source": []
  }
 ],
 "metadata": {
  "kernelspec": {
   "display_name": "Python 3",
   "language": "python",
   "name": "python3"
  },
  "language_info": {
   "codemirror_mode": {
    "name": "ipython",
    "version": 3
   },
   "file_extension": ".py",
   "mimetype": "text/x-python",
   "name": "python",
   "nbconvert_exporter": "python",
   "pygments_lexer": "ipython3",
   "version": "3.7.4"
  }
 },
 "nbformat": 4,
 "nbformat_minor": 2
}
